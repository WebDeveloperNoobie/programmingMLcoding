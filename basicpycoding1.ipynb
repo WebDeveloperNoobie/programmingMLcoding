{
 "cells": [
  {
   "cell_type": "markdown",
   "id": "3904ca11-dee6-4386-ab20-1030baab77f8",
   "metadata": {},
   "source": [
    "1. Write a Python program to print \"Hello Python\"?"
   ]
  },
  {
   "cell_type": "code",
   "execution_count": 1,
   "id": "6d39caa5-a26d-4284-a263-77912e30aa53",
   "metadata": {},
   "outputs": [
    {
     "name": "stdout",
     "output_type": "stream",
     "text": [
      "Hello Python\n"
     ]
    }
   ],
   "source": [
    "print(\"Hello Python\")"
   ]
  },
  {
   "cell_type": "markdown",
   "id": "2153e551-3251-4f89-a482-6d6f9d7eca71",
   "metadata": {},
   "source": [
    "2. Write a Python program to do arithmetical operations addition and division.?"
   ]
  },
  {
   "cell_type": "code",
   "execution_count": 3,
   "id": "feb3248d-3c72-4f84-9ac5-5d5f4578e81e",
   "metadata": {},
   "outputs": [],
   "source": [
    "a=4\n",
    "b=2\n",
    "c=a+b\n",
    "d=a/b"
   ]
  },
  {
   "cell_type": "code",
   "execution_count": 4,
   "id": "4e301398-1190-444d-8a9f-2bdae5d5196c",
   "metadata": {},
   "outputs": [
    {
     "name": "stdout",
     "output_type": "stream",
     "text": [
      "6\n",
      "2.0\n"
     ]
    }
   ],
   "source": [
    "print(c)\n",
    "print(d)"
   ]
  },
  {
   "cell_type": "markdown",
   "id": "4cad4b68-b168-4fcd-ab04-71af3f8845a2",
   "metadata": {},
   "source": [
    "3. Write a Python program to find the area of a triangle?"
   ]
  },
  {
   "cell_type": "code",
   "execution_count": 10,
   "id": "cacc1e10-f0fb-4b55-9018-4ab9eebbab04",
   "metadata": {},
   "outputs": [
    {
     "name": "stdin",
     "output_type": "stream",
     "text": [
      "enter value for base 2\n",
      "enter value for height 4\n"
     ]
    },
    {
     "name": "stdout",
     "output_type": "stream",
     "text": [
      "area of traingle is 4.0\n"
     ]
    }
   ],
   "source": [
    "base=int(input(\"enter value for base\"))\n",
    "height=int(input(\"enter value for height\"))\n",
    "area_traingle=1/2*base*height;\n",
    "print(\"area of traingle is\",area_traingle)"
   ]
  },
  {
   "cell_type": "markdown",
   "id": "c8cc3254-99e0-4249-a16c-731594e5b147",
   "metadata": {},
   "source": [
    "4. Write a Python program to swap two variables?"
   ]
  },
  {
   "cell_type": "code",
   "execution_count": 13,
   "id": "c9c0b800-ce15-4640-ab89-741977efd318",
   "metadata": {},
   "outputs": [
    {
     "name": "stdin",
     "output_type": "stream",
     "text": [
      "enter value of first variable 2\n",
      "enter value of second variable 3\n"
     ]
    },
    {
     "name": "stdout",
     "output_type": "stream",
     "text": [
      "swapped value for variable1 is 3\n",
      "swapped value for variable2 is 2\n"
     ]
    }
   ],
   "source": [
    "var1=int(input(\"enter value of first variable\"))\n",
    "var2=int(input(\"enter value of second variable\"))\n",
    "rand=var1\n",
    "var1=var2\n",
    "var2=rand\n",
    "print(\"swapped value for variable1 is\",var1)\n",
    "print(\"swapped value for variable2 is\",var2)"
   ]
  },
  {
   "cell_type": "markdown",
   "id": "9a550f5c-3066-49fc-8fb9-d550d84fad20",
   "metadata": {},
   "source": [
    "5. Write a Python program to generate a random number?"
   ]
  },
  {
   "cell_type": "code",
   "execution_count": 18,
   "id": "ddacfce1-3962-442c-854f-0583274fe75a",
   "metadata": {},
   "outputs": [
    {
     "name": "stdout",
     "output_type": "stream",
     "text": [
      "4\n"
     ]
    }
   ],
   "source": [
    "import random\n",
    "print(random.randint(1,9))"
   ]
  }
 ],
 "metadata": {
  "kernelspec": {
   "display_name": "Python 3 (ipykernel)",
   "language": "python",
   "name": "python3"
  },
  "language_info": {
   "codemirror_mode": {
    "name": "ipython",
    "version": 3
   },
   "file_extension": ".py",
   "mimetype": "text/x-python",
   "name": "python",
   "nbconvert_exporter": "python",
   "pygments_lexer": "ipython3",
   "version": "3.10.6"
  }
 },
 "nbformat": 4,
 "nbformat_minor": 5
}
